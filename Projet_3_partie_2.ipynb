{
 "cells": [
  {
   "cell_type": "markdown",
   "metadata": {},
   "source": [
    "# Entrée des données dans une base de données relationnelle"
   ]
  },
  {
   "cell_type": "markdown",
   "metadata": {},
   "source": [
    "# table 'population' :\n",
    "Une table appelée population, contenant la population de chaque pays pour chaque année comprise entre 2012 et la dernière année disponible à la date où vous aurez consulté le site de la FAO. "
   ]
  },
  {
   "cell_type": "markdown",
   "metadata": {},
   "source": [
    "Elle devra contenir 4 colonnes : pays, code_pays, annee, population."
   ]
  },
  {
   "cell_type": "code",
   "execution_count": 2,
   "metadata": {},
   "outputs": [],
   "source": [
    "# importation de la table population_FAO\n",
    "import pandas as pd\n",
    "population = pd.read_csv(\"population_FAO.csv\")"
   ]
  },
  {
   "cell_type": "code",
   "execution_count": 19,
   "metadata": {},
   "outputs": [],
   "source": [
    "# formatage de la table population\n",
    "population = population.pivot_table(index=[\"Zone\", \"Code zone\", \"Année\"], values=[\"Valeur\"], \n",
    "                                    aggfunc=sum, columns = [\"Élément\"])\n",
    "population.columns = ['Population totale']\n",
    "population = population.reset_index()"
   ]
  },
  {
   "cell_type": "code",
   "execution_count": 20,
   "metadata": {},
   "outputs": [],
   "source": [
    "# renommage des noms de colonne\n",
    "population.columns = ['pays', 'code_pays', 'annee', 'population']"
   ]
  },
  {
   "cell_type": "code",
   "execution_count": 21,
   "metadata": {},
   "outputs": [
    {
     "data": {
      "text/html": [
       "<div>\n",
       "<style scoped>\n",
       "    .dataframe tbody tr th:only-of-type {\n",
       "        vertical-align: middle;\n",
       "    }\n",
       "\n",
       "    .dataframe tbody tr th {\n",
       "        vertical-align: top;\n",
       "    }\n",
       "\n",
       "    .dataframe thead th {\n",
       "        text-align: right;\n",
       "    }\n",
       "</style>\n",
       "<table border=\"1\" class=\"dataframe\">\n",
       "  <thead>\n",
       "    <tr style=\"text-align: right;\">\n",
       "      <th></th>\n",
       "      <th>pays</th>\n",
       "      <th>code_pays</th>\n",
       "      <th>annee</th>\n",
       "      <th>population</th>\n",
       "    </tr>\n",
       "  </thead>\n",
       "  <tbody>\n",
       "    <tr>\n",
       "      <th>0</th>\n",
       "      <td>Afghanistan</td>\n",
       "      <td>2</td>\n",
       "      <td>2012</td>\n",
       "      <td>30696958.0</td>\n",
       "    </tr>\n",
       "    <tr>\n",
       "      <th>1</th>\n",
       "      <td>Afghanistan</td>\n",
       "      <td>2</td>\n",
       "      <td>2013</td>\n",
       "      <td>31731688.0</td>\n",
       "    </tr>\n",
       "    <tr>\n",
       "      <th>2</th>\n",
       "      <td>Afghanistan</td>\n",
       "      <td>2</td>\n",
       "      <td>2014</td>\n",
       "      <td>32758020.0</td>\n",
       "    </tr>\n",
       "    <tr>\n",
       "      <th>3</th>\n",
       "      <td>Afghanistan</td>\n",
       "      <td>2</td>\n",
       "      <td>2015</td>\n",
       "      <td>33736494.0</td>\n",
       "    </tr>\n",
       "    <tr>\n",
       "      <th>4</th>\n",
       "      <td>Afghanistan</td>\n",
       "      <td>2</td>\n",
       "      <td>2016</td>\n",
       "      <td>34656032.0</td>\n",
       "    </tr>\n",
       "  </tbody>\n",
       "</table>\n",
       "</div>"
      ],
      "text/plain": [
       "          pays  code_pays  annee  population\n",
       "0  Afghanistan          2   2012  30696958.0\n",
       "1  Afghanistan          2   2013  31731688.0\n",
       "2  Afghanistan          2   2014  32758020.0\n",
       "3  Afghanistan          2   2015  33736494.0\n",
       "4  Afghanistan          2   2016  34656032.0"
      ]
     },
     "execution_count": 21,
     "metadata": {},
     "output_type": "execute_result"
    }
   ],
   "source": [
    "# 'population' mise à la bonne unité\n",
    "population['population'] = population['population']*1000\n",
    "\n",
    "# suppression de l'individu Chine en doublon\n",
    "population = population.loc[population.pays != 'Chine', :]\n",
    "population.head()"
   ]
  },
  {
   "cell_type": "code",
   "execution_count": 24,
   "metadata": {},
   "outputs": [],
   "source": [
    "# exportation de la table sous format .csv\n",
    "population.to_csv(\"population.csv\", index = False)"
   ]
  },
  {
   "cell_type": "markdown",
   "metadata": {},
   "source": [
    "# Question 15 : \n",
    "Proposez une clé primaire pertinente pour cette table."
   ]
  },
  {
   "cell_type": "markdown",
   "metadata": {},
   "source": [
    "population.cle_primaire = je proposerai une clé artificielle"
   ]
  },
  {
   "cell_type": "markdown",
   "metadata": {},
   "source": [
    "# table 'dispo_alim' :\n",
    "Une table appelée dispo_alim, contenant pour chaque pays, pour chaque produit, et pour chaque année comprise entre 2012 et la dernière année disponible, les informations suivantes:\n",
    "la nature du produit (deux valeurs possibles : “animal” ou “végétal”)\n",
    "disponibilité alimentaire en tonnes\n",
    "disponibilité alimentaire en Kcal/personne/jour\n",
    "disponibilité alimentaire de protéines en g/personne/jour\n",
    "disponibilité alimentaire de matières grasses en g/personne/jour"
   ]
  },
  {
   "cell_type": "markdown",
   "metadata": {},
   "source": [
    "Elle devra contenir ces colonnes : pays, code_pays, année, produit, code_produit, dispo_alim_tonnes, dispo_alim_kcal_p_j, dispo_prot, dispo_mat_gr ."
   ]
  },
  {
   "cell_type": "code",
   "execution_count": 3,
   "metadata": {},
   "outputs": [],
   "source": [
    "# importation de la table bilan_2013\n",
    "bilan_2013 = pd.read_csv(\"bilan_2013.csv\")"
   ]
  },
  {
   "cell_type": "code",
   "execution_count": 4,
   "metadata": {},
   "outputs": [],
   "source": [
    "# formatage du dataframe principal\n",
    "bilan_2013 = bilan_2013.pivot_table(values = [\"Valeur\"], index = [\"Code Pays\", \"Pays\", \"Code Produit\", \"Produit\", \n",
    "                                                                  \"Année\"],columns = [\"Élément\"], aggfunc = sum)\n",
    "bilan_2013.columns = ['Aliments pour animaux', 'Autres Utilisations', \n",
    "                      'Disponibilité alimentaire (Kcal/personne/jour)', \n",
    "                      'Disponibilité alimentaire en quantité (kg/personne/an)', \n",
    "                      'Disponibilité de matière grasse en quantité (g/personne/jour)', \n",
    "                      'Disponibilité de protéines en quantité (g/personne/jour)', 'Disponibilité intérieure', \n",
    "                      'Exportations - Quantité', 'Importations - Quantité', 'Nourriture', 'Pertes', \n",
    "                      'Population totale','Production', 'Semences', 'Traitement', 'Variation de stock']\n",
    "bilan_2013 = bilan_2013.reset_index()"
   ]
  },
  {
   "cell_type": "code",
   "execution_count": 5,
   "metadata": {},
   "outputs": [],
   "source": [
    "# mise à l'unité utile des variables suivantes :\n",
    "vecteur = ['Aliments pour animaux', 'Autres Utilisations', 'Disponibilité intérieure', \n",
    "           'Exportations - Quantité', 'Importations - Quantité', 'Nourriture', 'Pertes', 'Production', \n",
    "           'Semences', 'Traitement', 'Variation de stock']\n",
    "\n",
    "# on boucle dans la liste vecteur avec chaque élément de la liste \n",
    "for elt in vecteur:\n",
    "    bilan_2013[elt] *= 1000000\n",
    "    \n",
    "# mise à l'unité utile de la variable population :\n",
    "bilan_2013['Population totale'] *= 1000"
   ]
  },
  {
   "cell_type": "code",
   "execution_count": 6,
   "metadata": {},
   "outputs": [],
   "source": [
    "# pour remplacer les valeurs 'NaN' par une valeur numérique\n",
    "bilan_2013 = bilan_2013.fillna(0)\n",
    "\n",
    "# pour obtenir une valeur sur chacune des lignes de la variable 'Population totale'\n",
    "for elt in pd.unique(bilan_2013['Pays']):\n",
    "    bilan_2013.loc[bilan_2013['Pays'] == elt,\n",
    "                   'Population totale'] = bilan_2013.loc[bilan_2013['Pays'] == elt,'Population totale'].max()\n",
    "    \n",
    "# suppression de l'individu Chine en doublon\n",
    "bilan_2013 = bilan_2013.loc[bilan_2013.Pays != 'Chine', :]\n",
    "\n",
    "# pour supprimer la valeur 'Population' de l'ensemble de la variable 'Produit'\n",
    "bilan_2013 = bilan_2013.loc[bilan_2013.Produit != 'Population', :]"
   ]
  },
  {
   "cell_type": "code",
   "execution_count": 7,
   "metadata": {},
   "outputs": [],
   "source": [
    "# création d'une nouvelle colonne résultante de la mutliplication de la colonne \n",
    "#'Disponibilité alimentaire en quantité (kg/personne/an)' avec 'Population totale', le tout divisé par 1 000 \n",
    "# ( pour être en tonne), le tout multiplé par le nombre de jours, que compte une année\n",
    "bilan_2013.loc[:, 'Disponibilité alimentaire (tonne/pays/an)'] = bilan_2013['Disponibilité alimentaire en quantité (kg/personne/an)'] * bilan_2013['Population totale']  / 1000"
   ]
  },
  {
   "cell_type": "code",
   "execution_count": 8,
   "metadata": {},
   "outputs": [],
   "source": [
    "# sélection des colonnes\n",
    "dispo_alim = bilan_2013[['Pays', 'Code Pays', 'Année', 'Produit', 'Code Produit', \n",
    "                         'Disponibilité alimentaire (tonne/pays/an)', \n",
    "                         'Disponibilité alimentaire (Kcal/personne/jour)', \n",
    "                         'Disponibilité de protéines en quantité (g/personne/jour)',\n",
    "                         'Disponibilité de matière grasse en quantité (g/personne/jour)']]"
   ]
  },
  {
   "cell_type": "code",
   "execution_count": 9,
   "metadata": {
    "scrolled": false
   },
   "outputs": [
    {
     "data": {
      "text/html": [
       "<div>\n",
       "<style scoped>\n",
       "    .dataframe tbody tr th:only-of-type {\n",
       "        vertical-align: middle;\n",
       "    }\n",
       "\n",
       "    .dataframe tbody tr th {\n",
       "        vertical-align: top;\n",
       "    }\n",
       "\n",
       "    .dataframe thead th {\n",
       "        text-align: right;\n",
       "    }\n",
       "</style>\n",
       "<table border=\"1\" class=\"dataframe\">\n",
       "  <thead>\n",
       "    <tr style=\"text-align: right;\">\n",
       "      <th></th>\n",
       "      <th>pays</th>\n",
       "      <th>code_pays</th>\n",
       "      <th>annee</th>\n",
       "      <th>produit</th>\n",
       "      <th>code_produit</th>\n",
       "      <th>dispo_alim_tonnes</th>\n",
       "      <th>dispo_alim_kcal_p_j</th>\n",
       "      <th>dispo_prot</th>\n",
       "      <th>dispo_mat_gr</th>\n",
       "    </tr>\n",
       "  </thead>\n",
       "  <tbody>\n",
       "    <tr>\n",
       "      <th>1</th>\n",
       "      <td>Arménie</td>\n",
       "      <td>1</td>\n",
       "      <td>2013</td>\n",
       "      <td>Blé</td>\n",
       "      <td>2511</td>\n",
       "      <td>388796.20</td>\n",
       "      <td>1024.0</td>\n",
       "      <td>30.52</td>\n",
       "      <td>3.60</td>\n",
       "    </tr>\n",
       "    <tr>\n",
       "      <th>2</th>\n",
       "      <td>Arménie</td>\n",
       "      <td>1</td>\n",
       "      <td>2013</td>\n",
       "      <td>Orge</td>\n",
       "      <td>2513</td>\n",
       "      <td>0.00</td>\n",
       "      <td>0.0</td>\n",
       "      <td>0.00</td>\n",
       "      <td>0.00</td>\n",
       "    </tr>\n",
       "    <tr>\n",
       "      <th>3</th>\n",
       "      <td>Arménie</td>\n",
       "      <td>1</td>\n",
       "      <td>2013</td>\n",
       "      <td>Maïs</td>\n",
       "      <td>2514</td>\n",
       "      <td>89.31</td>\n",
       "      <td>0.0</td>\n",
       "      <td>0.01</td>\n",
       "      <td>0.00</td>\n",
       "    </tr>\n",
       "    <tr>\n",
       "      <th>4</th>\n",
       "      <td>Arménie</td>\n",
       "      <td>1</td>\n",
       "      <td>2013</td>\n",
       "      <td>Seigle</td>\n",
       "      <td>2515</td>\n",
       "      <td>357.24</td>\n",
       "      <td>1.0</td>\n",
       "      <td>0.02</td>\n",
       "      <td>0.00</td>\n",
       "    </tr>\n",
       "    <tr>\n",
       "      <th>5</th>\n",
       "      <td>Arménie</td>\n",
       "      <td>1</td>\n",
       "      <td>2013</td>\n",
       "      <td>Avoine</td>\n",
       "      <td>2516</td>\n",
       "      <td>1101.49</td>\n",
       "      <td>2.0</td>\n",
       "      <td>0.09</td>\n",
       "      <td>0.03</td>\n",
       "    </tr>\n",
       "  </tbody>\n",
       "</table>\n",
       "</div>"
      ],
      "text/plain": [
       "      pays  code_pays  annee produit  code_produit  dispo_alim_tonnes  \\\n",
       "1  Arménie          1   2013     Blé          2511          388796.20   \n",
       "2  Arménie          1   2013    Orge          2513               0.00   \n",
       "3  Arménie          1   2013    Maïs          2514              89.31   \n",
       "4  Arménie          1   2013  Seigle          2515             357.24   \n",
       "5  Arménie          1   2013  Avoine          2516            1101.49   \n",
       "\n",
       "   dispo_alim_kcal_p_j  dispo_prot  dispo_mat_gr  \n",
       "1               1024.0       30.52          3.60  \n",
       "2                  0.0        0.00          0.00  \n",
       "3                  0.0        0.01          0.00  \n",
       "4                  1.0        0.02          0.00  \n",
       "5                  2.0        0.09          0.03  "
      ]
     },
     "execution_count": 9,
     "metadata": {},
     "output_type": "execute_result"
    }
   ],
   "source": [
    "# renommage des noms de colonne\n",
    "dispo_alim.columns = ['pays', 'code_pays', 'annee', 'produit', 'code_produit', 'dispo_alim_tonnes', \n",
    "                      'dispo_alim_kcal_p_j', 'dispo_prot', 'dispo_mat_gr']\n",
    "dispo_alim.head()"
   ]
  },
  {
   "cell_type": "code",
   "execution_count": 12,
   "metadata": {},
   "outputs": [],
   "source": [
    "# exportation de la table sous format .csv\n",
    "dispo_alim.to_csv(\"dispo_alim.csv\", index = False, sep=\";\")"
   ]
  },
  {
   "cell_type": "markdown",
   "metadata": {},
   "source": [
    "# Question 16 : \n",
    "Proposez une clé primaire pertinente pour cette table."
   ]
  },
  {
   "cell_type": "markdown",
   "metadata": {},
   "source": [
    "dispo_alim_primaire = je proposerai une clé artificielle "
   ]
  },
  {
   "cell_type": "markdown",
   "metadata": {},
   "source": [
    "# table 'equilibre_prod' :\n",
    "Une table appelée equilibre_prod, contenant pour chaque pays, pour chaque produit, et pour chaque année comprise entre 2012 et la dernière année disponible, les quantités suivantes :\n",
    "disponibilité intérieure\n",
    "aliments pour animaux\n",
    "semences\n",
    "pertes\n",
    "transformés\n",
    "nourriture\n",
    "autres utilisations"
   ]
  },
  {
   "cell_type": "markdown",
   "metadata": {},
   "source": [
    "Elle devra contenir ces colonnes : pays, code_pays, année, produit, code_produit, dispo_int, alim_ani, semences, pertes, transfo, nourriture, autres_utilisations."
   ]
  },
  {
   "cell_type": "code",
   "execution_count": 14,
   "metadata": {},
   "outputs": [],
   "source": [
    "# sélection des colonnes\n",
    "equilibre_prod = bilan_2013[['Pays', 'Code Pays', 'Année', 'Produit', 'Code Produit', 'Disponibilité intérieure', \n",
    "                             'Aliments pour animaux', 'Semences', 'Pertes', 'Nourriture', 'Autres Utilisations', \n",
    "                             'Exportations - Quantité']]"
   ]
  },
  {
   "cell_type": "code",
   "execution_count": 15,
   "metadata": {
    "scrolled": false
   },
   "outputs": [
    {
     "data": {
      "text/html": [
       "<div>\n",
       "<style scoped>\n",
       "    .dataframe tbody tr th:only-of-type {\n",
       "        vertical-align: middle;\n",
       "    }\n",
       "\n",
       "    .dataframe tbody tr th {\n",
       "        vertical-align: top;\n",
       "    }\n",
       "\n",
       "    .dataframe thead th {\n",
       "        text-align: right;\n",
       "    }\n",
       "</style>\n",
       "<table border=\"1\" class=\"dataframe\">\n",
       "  <thead>\n",
       "    <tr style=\"text-align: right;\">\n",
       "      <th></th>\n",
       "      <th>pays</th>\n",
       "      <th>code_pays</th>\n",
       "      <th>annee</th>\n",
       "      <th>produit</th>\n",
       "      <th>code_produit</th>\n",
       "      <th>dispo_int</th>\n",
       "      <th>alim_ani</th>\n",
       "      <th>semences</th>\n",
       "      <th>pertes</th>\n",
       "      <th>nourriture</th>\n",
       "      <th>autres_utilisations</th>\n",
       "      <th>exportation</th>\n",
       "    </tr>\n",
       "  </thead>\n",
       "  <tbody>\n",
       "    <tr>\n",
       "      <th>1</th>\n",
       "      <td>Arménie</td>\n",
       "      <td>1</td>\n",
       "      <td>2013</td>\n",
       "      <td>Blé</td>\n",
       "      <td>2511</td>\n",
       "      <td>554000000.0</td>\n",
       "      <td>93000000.0</td>\n",
       "      <td>30000000.0</td>\n",
       "      <td>32000000.0</td>\n",
       "      <td>389000000.0</td>\n",
       "      <td>0.0</td>\n",
       "      <td>1000000.0</td>\n",
       "    </tr>\n",
       "    <tr>\n",
       "      <th>2</th>\n",
       "      <td>Arménie</td>\n",
       "      <td>1</td>\n",
       "      <td>2013</td>\n",
       "      <td>Orge</td>\n",
       "      <td>2513</td>\n",
       "      <td>198000000.0</td>\n",
       "      <td>137000000.0</td>\n",
       "      <td>14000000.0</td>\n",
       "      <td>15000000.0</td>\n",
       "      <td>0.0</td>\n",
       "      <td>26000000.0</td>\n",
       "      <td>0.0</td>\n",
       "    </tr>\n",
       "    <tr>\n",
       "      <th>3</th>\n",
       "      <td>Arménie</td>\n",
       "      <td>1</td>\n",
       "      <td>2013</td>\n",
       "      <td>Maïs</td>\n",
       "      <td>2514</td>\n",
       "      <td>102000000.0</td>\n",
       "      <td>96000000.0</td>\n",
       "      <td>0.0</td>\n",
       "      <td>7000000.0</td>\n",
       "      <td>0.0</td>\n",
       "      <td>0.0</td>\n",
       "      <td>0.0</td>\n",
       "    </tr>\n",
       "    <tr>\n",
       "      <th>4</th>\n",
       "      <td>Arménie</td>\n",
       "      <td>1</td>\n",
       "      <td>2013</td>\n",
       "      <td>Seigle</td>\n",
       "      <td>2515</td>\n",
       "      <td>1000000.0</td>\n",
       "      <td>1000000.0</td>\n",
       "      <td>0.0</td>\n",
       "      <td>0.0</td>\n",
       "      <td>0.0</td>\n",
       "      <td>0.0</td>\n",
       "      <td>0.0</td>\n",
       "    </tr>\n",
       "    <tr>\n",
       "      <th>5</th>\n",
       "      <td>Arménie</td>\n",
       "      <td>1</td>\n",
       "      <td>2013</td>\n",
       "      <td>Avoine</td>\n",
       "      <td>2516</td>\n",
       "      <td>6000000.0</td>\n",
       "      <td>4000000.0</td>\n",
       "      <td>0.0</td>\n",
       "      <td>0.0</td>\n",
       "      <td>1000000.0</td>\n",
       "      <td>0.0</td>\n",
       "      <td>0.0</td>\n",
       "    </tr>\n",
       "  </tbody>\n",
       "</table>\n",
       "</div>"
      ],
      "text/plain": [
       "      pays  code_pays  annee produit  code_produit    dispo_int     alim_ani  \\\n",
       "1  Arménie          1   2013     Blé          2511  554000000.0   93000000.0   \n",
       "2  Arménie          1   2013    Orge          2513  198000000.0  137000000.0   \n",
       "3  Arménie          1   2013    Maïs          2514  102000000.0   96000000.0   \n",
       "4  Arménie          1   2013  Seigle          2515    1000000.0    1000000.0   \n",
       "5  Arménie          1   2013  Avoine          2516    6000000.0    4000000.0   \n",
       "\n",
       "     semences      pertes   nourriture  autres_utilisations  exportation  \n",
       "1  30000000.0  32000000.0  389000000.0                  0.0    1000000.0  \n",
       "2  14000000.0  15000000.0          0.0           26000000.0          0.0  \n",
       "3         0.0   7000000.0          0.0                  0.0          0.0  \n",
       "4         0.0         0.0          0.0                  0.0          0.0  \n",
       "5         0.0         0.0    1000000.0                  0.0          0.0  "
      ]
     },
     "execution_count": 15,
     "metadata": {},
     "output_type": "execute_result"
    }
   ],
   "source": [
    "# renommage des noms de colonne\n",
    "equilibre_prod.columns = ['pays', 'code_pays', 'annee', 'produit', 'code_produit', 'dispo_int', 'alim_ani',\n",
    "                          'semences', 'pertes', 'nourriture', 'autres_utilisations', 'exportation']\n",
    "equilibre_prod.head()"
   ]
  },
  {
   "cell_type": "code",
   "execution_count": 16,
   "metadata": {},
   "outputs": [],
   "source": [
    "# exportation de la table sous format .csv\n",
    "equilibre_prod.to_csv(\"equilibre_prod.csv\", index = False)"
   ]
  },
  {
   "cell_type": "markdown",
   "metadata": {},
   "source": [
    "# Question 17 : \n",
    "Proposez une clé primaire pertinente pour cette table."
   ]
  },
  {
   "cell_type": "markdown",
   "metadata": {},
   "source": [
    "equilibre_prod = je proposerai une clé artificielle "
   ]
  },
  {
   "cell_type": "markdown",
   "metadata": {},
   "source": [
    "# table : sous_nutrition :\n",
    "Une table appelée sous_nutrition, contenant le nombre de personnes en sous-alimentation pour chaque pays et pour chaque année comprise entre 2012 et la dernière année disponible. "
   ]
  },
  {
   "cell_type": "markdown",
   "metadata": {},
   "source": [
    "Elle devra contenir 4 colonnes : pays, code_pays, année, nb_personnes."
   ]
  },
  {
   "cell_type": "code",
   "execution_count": 18,
   "metadata": {},
   "outputs": [],
   "source": [
    "# importation de la table sous_nutrition_FAO\n",
    "sous_nutrition = pd.read_csv(\"sous_nutrition_FAO.csv\")"
   ]
  },
  {
   "cell_type": "code",
   "execution_count": 19,
   "metadata": {},
   "outputs": [],
   "source": [
    "# sélection des colonnes\n",
    "sous_nutrition = sous_nutrition[['Zone', 'Code zone', 'Année', 'Valeur']]"
   ]
  },
  {
   "cell_type": "code",
   "execution_count": 20,
   "metadata": {
    "scrolled": true
   },
   "outputs": [
    {
     "data": {
      "text/html": [
       "<div>\n",
       "<style scoped>\n",
       "    .dataframe tbody tr th:only-of-type {\n",
       "        vertical-align: middle;\n",
       "    }\n",
       "\n",
       "    .dataframe tbody tr th {\n",
       "        vertical-align: top;\n",
       "    }\n",
       "\n",
       "    .dataframe thead th {\n",
       "        text-align: right;\n",
       "    }\n",
       "</style>\n",
       "<table border=\"1\" class=\"dataframe\">\n",
       "  <thead>\n",
       "    <tr style=\"text-align: right;\">\n",
       "      <th></th>\n",
       "      <th>pays</th>\n",
       "      <th>code_pays</th>\n",
       "      <th>annee</th>\n",
       "      <th>nb_personnes</th>\n",
       "    </tr>\n",
       "  </thead>\n",
       "  <tbody>\n",
       "    <tr>\n",
       "      <th>0</th>\n",
       "      <td>Afghanistan</td>\n",
       "      <td>2</td>\n",
       "      <td>2012</td>\n",
       "      <td>7200000.0</td>\n",
       "    </tr>\n",
       "    <tr>\n",
       "      <th>1</th>\n",
       "      <td>Afghanistan</td>\n",
       "      <td>2</td>\n",
       "      <td>2013</td>\n",
       "      <td>8100000.0</td>\n",
       "    </tr>\n",
       "    <tr>\n",
       "      <th>2</th>\n",
       "      <td>Afghanistan</td>\n",
       "      <td>2</td>\n",
       "      <td>2014</td>\n",
       "      <td>9000000.0</td>\n",
       "    </tr>\n",
       "    <tr>\n",
       "      <th>3</th>\n",
       "      <td>Afghanistan</td>\n",
       "      <td>2</td>\n",
       "      <td>2015</td>\n",
       "      <td>9900000.0</td>\n",
       "    </tr>\n",
       "    <tr>\n",
       "      <th>4</th>\n",
       "      <td>Afghanistan</td>\n",
       "      <td>2</td>\n",
       "      <td>2016</td>\n",
       "      <td>10500000.0</td>\n",
       "    </tr>\n",
       "  </tbody>\n",
       "</table>\n",
       "</div>"
      ],
      "text/plain": [
       "          pays  code_pays  annee  nb_personnes\n",
       "0  Afghanistan          2   2012     7200000.0\n",
       "1  Afghanistan          2   2013     8100000.0\n",
       "2  Afghanistan          2   2014     9000000.0\n",
       "3  Afghanistan          2   2015     9900000.0\n",
       "4  Afghanistan          2   2016    10500000.0"
      ]
     },
     "execution_count": 20,
     "metadata": {},
     "output_type": "execute_result"
    }
   ],
   "source": [
    "# renommage des noms de colonne\n",
    "sous_nutrition.columns = ['pays', 'code_pays', 'annee', 'nb_personnes']\n",
    "\n",
    "# pour remplacer les valeurs 'NaN' par une valeur numérique\n",
    "sous_nutrition = sous_nutrition.fillna(0)\n",
    "\n",
    "# suppression de l'individu Chine en doublon\n",
    "sous_nutrition = sous_nutrition.loc[sous_nutrition.pays != 'Chine', :]\n",
    "\n",
    "# 'nb_personnes' mise à la bonne unité\n",
    "sous_nutrition['nb_personnes'] = sous_nutrition['nb_personnes']*1000000\n",
    "\n",
    "# valeurs de la variable'annee' corectement nommées\n",
    "sous_nutrition.loc[sous_nutrition.annee=='2011-2013', 'annee']=2012\n",
    "sous_nutrition.loc[sous_nutrition.annee=='2012-2014', 'annee']=2013\n",
    "sous_nutrition.loc[sous_nutrition.annee=='2013-2015', 'annee']=2014\n",
    "sous_nutrition.loc[sous_nutrition.annee=='2014-2016', 'annee']=2015\n",
    "sous_nutrition.loc[sous_nutrition.annee=='2015-2017', 'annee']=2016\n",
    "\n",
    "sous_nutrition.head()"
   ]
  },
  {
   "cell_type": "code",
   "execution_count": 21,
   "metadata": {},
   "outputs": [],
   "source": [
    "# exportation de la table sous format .csv\n",
    "sous_nutrition.to_csv(\"sous_nutrition.csv\", index = False)"
   ]
  },
  {
   "cell_type": "markdown",
   "metadata": {},
   "source": [
    "# Question 18 : \n",
    "Vous vous en doutez... proposez encore une fois une clé primaire pertinente pour cette table !"
   ]
  },
  {
   "cell_type": "markdown",
   "metadata": {},
   "source": [
    "sous_nutrition = je proposerai une clé artificielle "
   ]
  },
  {
   "cell_type": "code",
   "execution_count": 22,
   "metadata": {},
   "outputs": [],
   "source": [
    "# importation du module sqlite3\n",
    "import sqlite3"
   ]
  },
  {
   "cell_type": "code",
   "execution_count": 24,
   "metadata": {},
   "outputs": [],
   "source": [
    "# création de la base de données 'projet_3'\n",
    "conn = sqlite3.connect('projet_3.db')"
   ]
  }
 ],
 "metadata": {
  "kernelspec": {
   "display_name": "Python 3",
   "language": "python",
   "name": "python3"
  },
  "language_info": {
   "codemirror_mode": {
    "name": "ipython",
    "version": 3
   },
   "file_extension": ".py",
   "mimetype": "text/x-python",
   "name": "python",
   "nbconvert_exporter": "python",
   "pygments_lexer": "ipython3",
   "version": "3.8.8"
  }
 },
 "nbformat": 4,
 "nbformat_minor": 2
}
